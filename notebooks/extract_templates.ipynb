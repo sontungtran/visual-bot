{
 "cells": [
  {
   "cell_type": "code",
   "execution_count": 56,
   "metadata": {},
   "outputs": [],
   "source": [
    "import numpy as np\n",
    "import numpy\n",
    "import cv2\n",
    "import time\n",
    "from contextlib import contextmanager\n",
    "\n",
    "%matplotlib widget\n",
    "import matplotlib\n",
    "import matplotlib.pyplot as plt\n",
    "from matplotlib import widgets\n",
    "\n",
    "import os\n",
    "import sys\n",
    "module_path = os.path.abspath(os.path.join('src'))\n",
    "if module_path not in sys.path:\n",
    "    sys.path.append(module_path)\n",
    "sys.path.insert(0, '../')\n",
    "\n",
    "from src.img_utils import (capture_screenshot, \n",
    "                           extract_object, \n",
    "                           extract_all_objects,\n",
    "                           extract_edges)\n",
    "from src.key_mouse_utils import (move_to,\n",
    "                                 click,\n",
    "                                 scroll_up,\n",
    "                                 scroll_down,\n",
    "                                 drag,\n",
    "                                 write,\n",
    "                                 enter, hit_key,\n",
    "                                 mouse_up, mouse_down)"
   ]
  },
  {
   "cell_type": "code",
   "execution_count": 2,
   "metadata": {},
   "outputs": [],
   "source": [
    "@contextmanager\n",
    "def time_this():\n",
    "    start = time.time()\n",
    "    yield\n",
    "    print(f\"Time elapsed: {time.time()-start:.4f}\")"
   ]
  },
  {
   "cell_type": "code",
   "execution_count": 3,
   "metadata": {},
   "outputs": [],
   "source": [
    "def line_select_callback(eclick, erelease):\n",
    "    'eclick and erelease are the press and release events'\n",
    "    global bounding_boxes, I\n",
    "    x1, y1 = eclick.xdata, eclick.ydata\n",
    "    x2, y2 = erelease.xdata, erelease.ydata\n",
    "    x1, y1, x2, y2 = [round(x) for x in [x1, y1, x2, y2]]\n",
    "    bounding_boxes.append([(x1, y1),(x2, y2)])\n",
    "    I = capture_screenshot()\n",
    "    plt.imshow(I)\n",
    "    plt.connect('key_press_event', toggle_selector)\n",
    "    plt.show()\n",
    "    print(\"(%3.2f, %3.2f) --> (%3.2f, %3.2f)\" % (x1, y1, x2, y2))\n",
    "    print(\" The button you used were: %s %s\" % (eclick.button, erelease.button))\n",
    "    \n",
    "def toggle_selector(event):\n",
    "    print(' Key pressed.')\n",
    "    if event.key in ['Q', 'q'] and toggle_selector.RS.active:\n",
    "        print(' RectangleSelector deactivated.')\n",
    "        toggle_selector.RS.set_active(False)\n",
    "    if event.key in ['A', 'a'] and not toggle_selector.RS.active:\n",
    "        print(' RectangleSelector activated.')\n",
    "        toggle_selector.RS.set_active(True)"
   ]
  },
  {
   "cell_type": "code",
   "execution_count": 4,
   "metadata": {},
   "outputs": [],
   "source": [
    "# click(234, 28) #open new tab\n",
    "# click(206, 17) #close tab\n",
    "# time.sleep(1)\n",
    "\n",
    "# click(473, 49)\n",
    "# write(\"https://espritgames.com/wartime/go/\")\n",
    "# enter()\n",
    "# time.sleep(10)z\n",
    "\n",
    "# drag(1020, 350, 1020, 380)\n",
    "# click(477, 380)\n",
    "# drag(1020, 350, 1020, 380)\n",
    "# click(477, 380)\n",
    "# time.sleep(10)\n",
    "\n",
    "# click(657, 149)\n",
    "\n",
    "# click(936, 241)\n",
    "# click(583, 660)\n",
    "\n",
    "# click(486, 489)\n",
    "# write(credentials[\"email\"])\n",
    "# click(436, 537)\n",
    "# write(credentials[\"password\"])\n",
    "\n",
    "# click(489, 618)\n",
    "\n",
    "# click(727, 257)\n",
    "# click(530, 627)\n",
    "# scroll_down()"
   ]
  },
  {
   "cell_type": "code",
   "execution_count": 5,
   "metadata": {},
   "outputs": [],
   "source": [
    "# click(867, 55)\n",
    "# move_to(867, 55)\n",
    "# write(\"http://www.tptp.org/TPTP/Distribution/TPTP-v7.4.0.tgz\")\n",
    "# enter()\n",
    "# time.sleep(10)\n",
    "# for i in range(10):\n",
    "#     click(612, 580)\n",
    "#     time.sleep(2)"
   ]
  },
  {
   "cell_type": "code",
   "execution_count": null,
   "metadata": {},
   "outputs": [],
   "source": [
    "%matplotlib widget\n",
    "f, ax = plt.subplots(figsize=(8,7))\n",
    "bounding_boxes = []\n",
    "toggle_selector.RS = widgets.RectangleSelector(ax, line_select_callback,\n",
    "                                       drawtype='box', useblit=True,\n",
    "                                       button=[1, 3],  # don't use middle button\n",
    "                                       minspanx=5, minspany=5,\n",
    "                                       spancoords='pixels',\n",
    "                                       interactive=True)\n",
    "\n",
    "I = capture_screenshot()\n",
    "# I = plt.imread()\n",
    "\n",
    "plt.imshow(I)\n",
    "plt.connect('key_press_event', toggle_selector)\n",
    "plt.show()"
   ]
  },
  {
   "cell_type": "code",
   "execution_count": 7,
   "metadata": {},
   "outputs": [
    {
     "data": {
      "text/plain": [
       "[(3, 6), (218, 28)]"
      ]
     },
     "execution_count": 7,
     "metadata": {},
     "output_type": "execute_result"
    }
   ],
   "source": [
    "bounding_box = bounding_boxes[-1]\n",
    "bounding_box"
   ]
  },
  {
   "cell_type": "code",
   "execution_count": 8,
   "metadata": {},
   "outputs": [
    {
     "data": {
      "image/png": "[encoded data removed]",
      "text/plain": [
       "<Figure size 432x288 with 1 Axes>"
      ]
     },
     "metadata": {
      "needs_background": "light"
     },
     "output_type": "display_data"
    }
   ],
   "source": [
    "%matplotlib inline\n",
    "template = I[bounding_box[0][1]:bounding_box[1][1], bounding_box[0][0]:bounding_box[1][0], :]\n",
    "# fig = plt.figure(frameon=False, facecolor='white')\n",
    "# ax = plt.Axes(fig, [0., 0., 1., 1.])\n",
    "# ax.set_axis_off()\n",
    "# fig.add_axes(ax)\n",
    "plt.imshow(template)\n",
    "# plt.imsave('../templates/wut.png', template)\n",
    "plt.show()"
   ]
  },
  {
   "cell_type": "code",
   "execution_count": 9,
   "metadata": {},
   "outputs": [],
   "source": [
    "name = \"confirm_blue_button\"\n",
    "# plt.imsave(f'../templates/{name}.png', template)"
   ]
  },
  {
   "cell_type": "code",
   "execution_count": 15,
   "metadata": {},
   "outputs": [
    {
     "data": {
      "application/vnd.jupyter.widget-view+json": {
       "model_id": "",
       "version_major": 2,
       "version_minor": 0
      },
      "text/plain": [
       "Canvas(toolbar=Toolbar(toolitems=[('Home', 'Reset original view', 'home', 'home'), ('Back', 'Back to previous …"
      ]
     },
     "metadata": {},
     "output_type": "display_data"
    },
    {
     "name": "stderr",
     "output_type": "stream",
     "text": [
      "Clipping input data to the valid range for imshow with RGB data ([0..1] for floats or [0..255] for integers).\n"
     ]
    },
    {
     "name": "stdout",
     "output_type": "stream",
     "text": [
      "Time elapsed: 0.1153\n"
     ]
    }
   ],
   "source": [
    "%matplotlib widget\n",
    "\n",
    "with time_this():\n",
    "    I_copy = I.copy()\n",
    "#     bounding_boxes = extract_all_objects(template, I[I.shape[0]//2:,:,:])\n",
    "#     for top_left, bottom_right in bounding_boxes:\n",
    "#         cv2.rectangle(I_copy, top_left, bottom_right, 255, 2)\n",
    "    bounding_box = extract_object(template, I)\n",
    "    top_left, bottom_right = bounding_box\n",
    "    cv2.rectangle(I_copy, top_left, bottom_right, 255, 2)\n",
    "    plt.imshow(I_copy)"
   ]
  },
  {
   "cell_type": "code",
   "execution_count": 19,
   "metadata": {},
   "outputs": [
    {
     "name": "stdout",
     "output_type": "stream",
     "text": [
      "(768, 1024) 0 255 0.0\n"
     ]
    },
    {
     "data": {
      "text/plain": [
       "<matplotlib.image.AxesImage at 0x7f6f06f5d8d0>"
      ]
     },
     "execution_count": 19,
     "metadata": {},
     "output_type": "execute_result"
    }
   ],
   "source": [
    "print(extract_edges(I).shape, np.min(extract_edges(I)), np.max(extract_edges(I)), np.median(extract_edges(I)))\n",
    "plt.imshow(extract_edges(I))"
   ]
  },
  {
   "cell_type": "code",
   "execution_count": 52,
   "metadata": {},
   "outputs": [
    {
     "data": {
      "application/vnd.jupyter.widget-view+json": {
       "model_id": "",
       "version_major": 2,
       "version_minor": 0
      },
      "text/plain": [
       "Canvas(toolbar=Toolbar(toolitems=[('Home', 'Reset original view', 'home', 'home'), ('Back', 'Back to previous …"
      ]
     },
     "metadata": {},
     "output_type": "display_data"
    }
   ],
   "source": [
    "%matplotlib widget\n",
    "# Load image, create mask, grayscale, and Otsu's threshold\n",
    "image = np.uint8(I.copy()*255)\n",
    "mask = np.zeros(image.shape, dtype=np.uint8)\n",
    "gray = cv2.cvtColor(image, cv2.COLOR_BGR2GRAY)\n",
    "thresh = cv2.threshold(gray, 0, 255, cv2.THRESH_BINARY_INV + cv2.THRESH_OTSU)[1]\n",
    "\n",
    "# Perform morph operations\n",
    "open_kernel = cv2.getStructuringElement(cv2.MORPH_RECT, (3,3))\n",
    "opening = cv2.morphologyEx(thresh, cv2.MORPH_OPEN, open_kernel, iterations=1)\n",
    "close_kernel = cv2.getStructuringElement(cv2.MORPH_RECT, (9,9))\n",
    "close = cv2.morphologyEx(opening, cv2.MORPH_CLOSE, close_kernel, iterations=3)\n",
    "\n",
    "# Find horizontal sections and draw rectangle on mask \n",
    "horizontal_kernel = cv2.getStructuringElement(cv2.MORPH_RECT, (25,3))\n",
    "detect_horizontal = cv2.morphologyEx(close, cv2.MORPH_OPEN, horizontal_kernel, iterations=2)\n",
    "cnts = cv2.findContours(detect_horizontal, cv2.RETR_EXTERNAL, cv2.CHAIN_APPROX_SIMPLE)\n",
    "cnts = cnts[0] if len(cnts) == 2 else cnts[1]\n",
    "for c in cnts:\n",
    "    x,y,w,h = cv2.boundingRect(c)\n",
    "    cv2.rectangle(mask, (x, y), (x + w, y + h), (255,255,255), -1)\n",
    "    cv2.rectangle(mask, (x, y), (x + w, y + h), (255,255,255), 2)\n",
    "\n",
    "# Find vertical sections and draw rectangle on mask \n",
    "vertical_kernel = cv2.getStructuringElement(cv2.MORPH_RECT, (3,25))\n",
    "detect_vertical = cv2.morphologyEx(close, cv2.MORPH_OPEN, vertical_kernel, iterations=2)\n",
    "cnts = cv2.findContours(detect_vertical, cv2.RETR_EXTERNAL, cv2.CHAIN_APPROX_SIMPLE)\n",
    "cnts = cnts[0] if len(cnts) == 2 else cnts[1]\n",
    "for c in cnts:\n",
    "    x,y,w,h = cv2.boundingRect(c)\n",
    "    cv2.rectangle(mask, (x, y), (x + w, y + h), (255,255,255), -1)\n",
    "    cv2.rectangle(mask, (x, y), (x + w, y + h), (255,255,255), 2)\n",
    "\n",
    "# Color mask onto original image\n",
    "mask = cv2.cvtColor(mask, cv2.COLOR_BGR2GRAY)\n",
    "image[mask==255] = [0,0,0]\n",
    "\n",
    "plt.imshow(opening)\n",
    "plt.show()\n",
    "# plt.imshow(close)\n",
    "# plt.show()\n",
    "# plt.imshow(image)\n",
    "# plt.show()\n",
    "plt.imshow(thresh)\n",
    "plt.show()\n",
    "# plt.imshow(mask)\n",
    "# plt.show()"
   ]
  },
  {
   "cell_type": "code",
   "execution_count": 70,
   "metadata": {},
   "outputs": [
    {
     "data": {
      "application/vnd.jupyter.widget-view+json": {
       "model_id": "a5f36d91ff3f404e9787fef2fb4e1ad4",
       "version_major": 2,
       "version_minor": 0
      },
      "text/plain": [
       "Canvas(toolbar=Toolbar(toolitems=[('Home', 'Reset original view', 'home', 'home'), ('Back', 'Back to previous …"
      ]
     },
     "metadata": {},
     "output_type": "display_data"
    },
    {
     "data": {
      "text/plain": [
       "<matplotlib.image.AxesImage at 0x7f6ee4591f50>"
      ]
     },
     "execution_count": 70,
     "metadata": {},
     "output_type": "execute_result"
    }
   ],
   "source": [
    "%matplotlib widget\n",
    "img = np.uint8(I * 255)\n",
    "\n",
    "# Split out each channel\n",
    "blue, green, red = cv2.split(img)\n",
    "\n",
    "def medianCanny(img, thresh1, thresh2):\n",
    "    median = numpy.median(img)\n",
    "    img = cv2.Canny(img, int(thresh1 * median), int(thresh2 * median))\n",
    "    return img\n",
    "\n",
    "# Run canny edge detection on each channel\n",
    "blue_edges = medianCanny(blue, 0.2, 0.3)\n",
    "green_edges = medianCanny(green, 0.2, 0.3)\n",
    "red_edges = medianCanny(red, 0.2, 0.3)\n",
    "\n",
    "# Join edges back into image\n",
    "edges = blue_edges | green_edges | red_edges\n",
    "\n",
    "# Find the contours\n",
    "_, contours, hierarchy = cv2.findContours(edges, cv2.RETR_TREE,cv2.CHAIN_APPROX_SIMPLE)\n",
    "\n",
    "hierarchy = hierarchy[0] # get the actual inner list of hierarchy descriptions\n",
    "\n",
    "# For each contour, find the bounding rectangle and draw it\n",
    "for component in zip(contours, hierarchy):\n",
    "    currentContour = component[0]\n",
    "    currentHierarchy = component[1]\n",
    "    x,y,w,h = cv2.boundingRect(currentContour)\n",
    "    if w < 10 or h < 10:\n",
    "        continue\n",
    "    if currentHierarchy[2] < 0:\n",
    "        # these are the innermost child components\n",
    "        cv2.rectangle(img,(x,y),(x+w,y+h),(0,0,255),3)\n",
    "    elif currentHierarchy[3] < 0:\n",
    "        # these are the outermost parent components\n",
    "        cv2.rectangle(img,(x,y),(x+w,y+h),(0,255,0),3)\n",
    "\n",
    "# Finally show the image\n",
    "plt.imshow(img)"
   ]
  },
  {
   "cell_type": "code",
   "execution_count": 65,
   "metadata": {},
   "outputs": [
    {
     "data": {
      "text/plain": [
       "NoneType"
      ]
     },
     "execution_count": 65,
     "metadata": {},
     "output_type": "execute_result"
    }
   ],
   "source": [
    "type(img)"
   ]
  }
 ],
 "metadata": {
  "kernelspec": {
   "display_name": "Python 3",
   "language": "python",
   "name": "python3"
  },
  "language_info": {
   "codemirror_mode": {
    "name": "ipython",
    "version": 3
   },
   "file_extension": ".py",
   "mimetype": "text/x-python",
   "name": "python",
   "nbconvert_exporter": "python",
   "pygments_lexer": "ipython3",
   "version": "3.7.6"
  }
 },
 "nbformat": 4,
 "nbformat_minor": 4
}
