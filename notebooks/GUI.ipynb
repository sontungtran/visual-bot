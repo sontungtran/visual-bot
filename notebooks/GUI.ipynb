{
 "cells": [
  {
   "cell_type": "code",
   "execution_count": 34,
   "metadata": {},
   "outputs": [],
   "source": [
    "import tkinter as tk\n"
   ]
  },
  {
   "cell_type": "code",
   "execution_count": 7,
   "metadata": {},
   "outputs": [],
   "source": [
    "import tkinter as tk\n",
    "\n",
    "def find_text():\n",
    "    pass\n",
    "\n",
    "def capture_temperature():\n",
    "    pass\n",
    "\n",
    "def draw_region():\n",
    "    pass\n",
    "\n",
    "master = tk.Tk()\n",
    "master.geometry(\"200x100\")\n",
    "tk.Label(master).grid(row=0)\n",
    "\n",
    "e1 = tk.Entry(master)\n",
    "e1.grid(row=0)\n",
    "e1.place(width=200)\n",
    "\n",
    "tk.Button(master, \n",
    "          text='Find text', \n",
    "          command=find_text).grid(row=1, \n",
    "                                    column=1, \n",
    "                                    sticky=tk.W, \n",
    "                                    pady=4)\n",
    "tk.Button(master, text='Capture Temperature', command=capture_temperature).grid(row=3, \n",
    "                                                                           column=1, \n",
    "                                                                           sticky=tk.W, \n",
    "                                                                           pady=4)\n",
    "tk.Button(master, text='Draw Region', command=draw_region).grid(row=3, \n",
    "                                                       column=0, \n",
    "                                                       sticky=tk.W, \n",
    "                                                       pady=4)\n",
    "\n",
    "master.mainloop()\n",
    "\n",
    "tk.mainloop()"
   ]
  },
  {
   "cell_type": "code",
   "execution_count": null,
   "metadata": {},
   "outputs": [],
   "source": []
  },
  {
   "cell_type": "code",
   "execution_count": null,
   "metadata": {},
   "outputs": [],
   "source": []
  }
 ],
 "metadata": {
  "kernelspec": {
   "display_name": "Python 3",
   "language": "python",
   "name": "python3"
  },
  "language_info": {
   "codemirror_mode": {
    "name": "ipython",
    "version": 3
   },
   "file_extension": ".py",
   "mimetype": "text/x-python",
   "name": "python",
   "nbconvert_exporter": "python",
   "pygments_lexer": "ipython3",
   "version": "3.7.4"
  }
 },
 "nbformat": 4,
 "nbformat_minor": 2
}
