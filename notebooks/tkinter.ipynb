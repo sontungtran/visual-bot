{
 "cells": [
  {
   "cell_type": "code",
   "execution_count": 34,
   "metadata": {},
   "outputs": [],
   "source": [
    "import tkinter as tk\n"
   ]
  },
  {
   "cell_type": "code",
   "execution_count": 7,
   "metadata": {},
   "outputs": [],
   "source": [
    "import tkinter as tk\n",
    "\n",
    "def find_text():\n",
    "    pass\n",
    "\n",
    "def capture_temperature():\n",
    "    pass\n",
    "\n",
    "def draw_region():\n",
    "    pass\n",
    "\n",
    "master = tk.Tk()\n",
    "master.geometry(\"200x100\")\n",
    "\n",
    "import tkinter as tk\n",
    "\n",
    "\n",
    "class MainWindow:\n",
    "    def __init__(self, master):\n",
    "\n",
    "        self.entry = self.entry()\n",
    "        self.find_but = tk.Button(master,text='Find text', command=self.find_text()).grid(row=1, \n",
    "                                                                                        column=1, \n",
    "                                                                                        sticky=tk.W, \n",
    "                                                                                        pady=4)\n",
    "            \n",
    "        self.temp_but = tk.Button(master, text='Capture Temperature', command=self.capture_temperature()).grid(row=3, \n",
    "                                                                                                           column=1, \n",
    "                                                                                                           sticky=tk.W, \n",
    "                                                                                                           pady=4)\n",
    "        self.draw_but = tk.Button(master, text='Draw Region', command=draw_region).grid(row=3, \n",
    "                                                                                           column=0, \n",
    "                                                                                           sticky=tk.W, \n",
    "                                                                                           pady=4)\n",
    "    def entry(self):\n",
    "        tk.Label(master).grid(row=0)\n",
    "        e1 = tk.Entry(master)\n",
    "        e1.grid(row=0)\n",
    "        e1.place(width=200)\n",
    "    \n",
    "    def find_text(self):\n",
    "        pass\n",
    "\n",
    "    def capture_temperature(self):\n",
    "        pass\n",
    "\n",
    "    def draw_region():\n",
    "        pass\n",
    "\n",
    "def main():\n",
    "    master = tk.Tk()\n",
    "    master.geometry(\"200x100\")\n",
    "    app = MainWindow(master)\n",
    "    master.mainloop()\n",
    "\n",
    "main()"
   ]
  },
  {
   "cell_type": "code",
   "execution_count": null,
   "metadata": {},
   "outputs": [],
   "source": []
  },
  {
   "cell_type": "code",
   "execution_count": null,
   "metadata": {},
   "outputs": [],
   "source": []
  }
 ],
 "metadata": {
  "kernelspec": {
   "display_name": "Python 3",
   "language": "python",
   "name": "python3"
  },
  "language_info": {
   "codemirror_mode": {
    "name": "ipython",
    "version": 3
   },
   "file_extension": ".py",
   "mimetype": "text/x-python",
   "name": "python",
   "nbconvert_exporter": "python",
   "pygments_lexer": "ipython3",
   "version": "3.7.4"
  }
 },
 "nbformat": 4,
 "nbformat_minor": 2
}
