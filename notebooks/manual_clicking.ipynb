{
 "cells": [
  {
   "cell_type": "code",
   "execution_count": 12,
   "metadata": {},
   "outputs": [],
   "source": [
    "import numpy as np\n",
    "import cv2\n",
    "import time\n",
    "from contextlib import contextmanager\n",
    "\n",
    "%matplotlib widget\n",
    "import matplotlib\n",
    "import matplotlib.pyplot as plt\n",
    "from matplotlib import widgets\n",
    "\n",
    "import os\n",
    "import sys\n",
    "module_path = os.path.abspath(os.path.join('src'))\n",
    "if module_path not in sys.path:\n",
    "    sys.path.append(module_path)\n",
    "sys.path.insert(0, '../')\n",
    "\n",
    "from src.img_utils import (capture_screenshot, \n",
    "                           extract_object, \n",
    "                           extract_all_objects)\n",
    "from src.key_mouse_utils import (move_to,\n",
    "                                 click,\n",
    "                                 scroll_up,\n",
    "                                 scroll_down,\n",
    "                                 drag,\n",
    "                                 write,\n",
    "                                 enter, hit_key,\n",
    "                                 mouse_up, mouse_down)\n",
    "from src.visual_bot import VisualBot"
   ]
  },
  {
   "cell_type": "code",
   "execution_count": 13,
   "metadata": {},
   "outputs": [],
   "source": [
    "@contextmanager\n",
    "def time_this():\n",
    "    start = time.time()\n",
    "    yield\n",
    "    print(f\"Time elapsed: {time.time()-start:.4f}\")"
   ]
  },
  {
   "cell_type": "code",
   "execution_count": 14,
   "metadata": {},
   "outputs": [],
   "source": [
    "def line_select_callback(eclick, erelease):\n",
    "    'eclick and erelease are the press and release events'\n",
    "    global bounding_boxes, gamebot\n",
    "    x1, y1 = eclick.xdata, eclick.ydata\n",
    "    x2, y2 = erelease.xdata, erelease.ydata\n",
    "    x1, y1, x2, y2 = [round(x) for x in [x1, y1, x2, y2]]\n",
    "    bounding_boxes.append((x1, y1))\n",
    "    bounding_boxes.append((x2, y2))\n",
    "    bounding_boxes.append([(x1, y1),(x2, y2)])\n",
    "    gamebot.click(x1, y1)\n",
    "    I = gamebot.capture_screenshot()\n",
    "    # I = plt.imread()\n",
    "    plt.imshow(I)\n",
    "    plt.connect('key_press_event', toggle_selector)\n",
    "    plt.show()\n",
    "    \n",
    "    # These will show in the notebook log (bottom left corner)\n",
    "    print(\"(%3.2f, %3.2f) --> (%3.2f, %3.2f)\" % (x1, y1, x2, y2))\n",
    "    print(\" The button you used were: %s %s\" % (eclick.button, erelease.button))\n",
    "    \n",
    "def toggle_selector(event):\n",
    "    print(' Key pressed.')\n",
    "    if event.key in ['Q', 'q'] and toggle_selector.RS.active:\n",
    "        print(' RectangleSelector deactivated.')\n",
    "        toggle_selector.RS.set_active(False)\n",
    "    if event.key in ['A', 'a'] and not toggle_selector.RS.active:\n",
    "        print(' RectangleSelector activated.')\n",
    "        toggle_selector.RS.set_active(True)"
   ]
  },
  {
   "cell_type": "code",
   "execution_count": 16,
   "metadata": {},
   "outputs": [],
   "source": [
    "# for i in range(10):\n",
    "#     template = plt.imread(\"../templates/donate_button.png\")[...,:3]\n",
    "#     bounding_box = extract_object(template, I)\n",
    "#     click_bbox(bounding_box)\n",
    "#     time.sleep(2)\n",
    "#     print(bounding_box)\n",
    "# template = plt.imread(\"../templates/return_button.png\")[...,:3]\n",
    "# bounding_box = extract_object(template, I)\n",
    "# click_bbox(bounding_box)"
   ]
  },
  {
   "cell_type": "code",
   "execution_count": 17,
   "metadata": {},
   "outputs": [
    {
     "name": "stdout",
     "output_type": "stream",
     "text": [
      "Loading text_crop_model weights from checkpoint (../weights/craft_mlt_25k.pth)\n",
      "Loading text_crop_model weights from checkpoint (/home/tung/pj/sel/deep-text-recognition-benchmark/weights/TPS-ResNet-BiLSTM-CTC.pth)\n"
     ]
    }
   ],
   "source": [
    "gamebot = VisualBot(display=98)"
   ]
  },
  {
   "cell_type": "code",
   "execution_count": 29,
   "metadata": {},
   "outputs": [],
   "source": [
    "# gamebot.click(234, 28) #open new tab\n",
    "# gamebot.click(206, 17) #close tab\n",
    "# time.sleep(1)\n",
    "\n",
    "# gamebot.click(473, 49)\n",
    "# gamebot.write(\"https://espritgames.com/wartime/go/\")\n",
    "# gamebot.enter()\n",
    "# time.sleep(10)\n",
    "\n",
    "# gamebot.drag(1020, 350, 1020, 380)\n",
    "# gamebot.click(477, 380)\n",
    "# gamebot.drag(1020, 350, 1020, 380)\n",
    "# gamebot.click(477, 380)\n",
    "# time.sleep(10)\n",
    "\n",
    "# click(657, 149)\n",
    "\n",
    "# click(936, 241)\n",
    "# click(583, 660)\n",
    "\n",
    "# click(486, 489)\n",
    "# write(credentials[\"email\"])\n",
    "# click(436, 537)\n",
    "# write(credentials[\"password\"])\n",
    "\n",
    "# click(489, 618)\n",
    "\n",
    "# click(727, 257)\n",
    "# click(530, 627)\n",
    "# scroll_down()"
   ]
  },
  {
   "cell_type": "code",
   "execution_count": 31,
   "metadata": {},
   "outputs": [],
   "source": [
    "gamebot.drag(657, 123, 657, 280)\n",
    "gamebot.click(657, 280)"
   ]
  },
  {
   "cell_type": "code",
   "execution_count": 37,
   "metadata": {},
   "outputs": [
    {
     "data": {
      "application/vnd.jupyter.widget-view+json": {
       "model_id": "",
       "version_major": 2,
       "version_minor": 0
      },
      "text/plain": [
       "Canvas(toolbar=Toolbar(toolitems=[('Home', 'Reset original view', 'home', 'home'), ('Back', 'Back to previous …"
      ]
     },
     "metadata": {},
     "output_type": "display_data"
    }
   ],
   "source": [
    "%matplotlib widget\n",
    "f, ax = plt.subplots(figsize=(8,7))\n",
    "bounding_boxes = []\n",
    "toggle_selector.RS = widgets.RectangleSelector(ax, line_select_callback,\n",
    "                                       drawtype='box', useblit=True,\n",
    "                                       button=[1, 3],  # don't use middle button\n",
    "                                       minspanx=5, minspany=5,\n",
    "                                       spancoords='pixels',\n",
    "                                       interactive=True)\n",
    "\n",
    "I = gamebot.capture_screenshot()\n",
    "# I = plt.imread()\n",
    "\n",
    "plt.imshow(I)\n",
    "plt.connect('key_press_event', toggle_selector)\n",
    "plt.show()"
   ]
  },
  {
   "cell_type": "code",
   "execution_count": 38,
   "metadata": {},
   "outputs": [],
   "source": [
    "# Get the most recently chosen bounding box\n",
    "bounding_box = [[430,350], [457,375]] #bounding_boxes[-1]"
   ]
  },
  {
   "cell_type": "code",
   "execution_count": 39,
   "metadata": {},
   "outputs": [
    {
     "data": {
      "image/png": "[encoded data removed]",
      "text/plain": [
       "<Figure size 432x288 with 1 Axes>"
      ]
     },
     "metadata": {
      "needs_background": "light"
     },
     "output_type": "display_data"
    }
   ],
   "source": [
    "%matplotlib inline\n",
    "template = I[bounding_box[0][1]:bounding_box[1][1], bounding_box[0][0]:bounding_box[1][0], :][:,:60,:]\n",
    "# fig = plt.figure(frameon=False, facecolor='white')\n",
    "# ax = plt.Axes(fig, [0., 0., 1., 1.])\n",
    "# ax.set_axis_off()\n",
    "# fig.add_axes(ax)\n",
    "plt.imshow(template)\n",
    "# plt.imsave('../templates/wut.png', template)\n",
    "plt.show()"
   ]
  },
  {
   "cell_type": "code",
   "execution_count": null,
   "metadata": {},
   "outputs": [],
   "source": [
    "name = \"return_button\"\n",
    "# plt.imsave(f'../templates/{name}.png', template)"
   ]
  },
  {
   "cell_type": "code",
   "execution_count": 40,
   "metadata": {},
   "outputs": [],
   "source": [
    "from skimage import color\n",
    "color.colorconv.lab_ref_white = np.array([0.96422, 1.0, 0.82521])\n",
    "template_lab = color.rgb2lab(template)"
   ]
  },
  {
   "cell_type": "code",
   "execution_count": 43,
   "metadata": {},
   "outputs": [
    {
     "data": {
      "text/plain": [
       "(99.616875, -33.175797, 20.027157, (25, 27, 3))"
      ]
     },
     "execution_count": 43,
     "metadata": {},
     "output_type": "execute_result"
    }
   ],
   "source": [
    "lab.max(), lab.min(), lab.mean(), lab.shape"
   ]
  },
  {
   "cell_type": "code",
   "execution_count": null,
   "metadata": {},
   "outputs": [],
   "source": [
    "def extract_edges(img):    \n",
    "    img_gray = cv2.cvtColor(img, cv2.COLOR_BGR2GRAY)\n",
    "    if np.max(img_gray) <= 1:\n",
    "        img_gray = np.uint8(img_gray * 255)\n",
    "    img_edges = cv2.Canny(img_gray,100,200)\n",
    "    return img_edges\n",
    "\n",
    "def extract_all_objects_(template, img, method=cv2.TM_SQDIFF_NORMED, \n",
    "                        mean_threshold=None, range_threshold=0.2):\n",
    "    if mean_threshold == None:\n",
    "        if method in [cv2.TM_SQDIFF_NORMED, cv2.TM_SQDIFF]:\n",
    "            mean_threshold = 0.2\n",
    "        else:\n",
    "            mean_threshold = 0.8\n",
    "    \n",
    "    # Using each color channel\n",
    "    h, w, _ = template.shape\n",
    "    template = template[...,:3] # RGB only\n",
    "    img = img[...,:3]\n",
    "#     res_array = np.expand_dims(cv2.matchTemplate(img[:,:,0], template[:,:,0], method), 0)\n",
    "#     for channel in range(1,3):\n",
    "#         res = cv2.matchTemplate(img[:,:,channel], template[:,:,channel], method)\n",
    "#         res_array = np.concatenate([res_array, np.expand_dims(res,0)], axis=0)\n",
    "    \n",
    "    # Using color diff\n",
    "    \n",
    "    \n",
    "    # Using edges\n",
    "    template_edges = extract_edges(template)\n",
    "    img_edges = extract_edges(img)\n",
    "    res = cv2.matchTemplate(img_edges, template_edges, method)\n",
    "    res_array = np.concatenate([res_array, np.expand_dims(res,0)], axis=0)\n",
    "        \n",
    "    # Combine\n",
    "    res_mean = 0.8*res_array[0] + 0.2*res_array[1]\n",
    "    res_range = mean_threshold - np.min(res_array[:4,:,:], 0)\n",
    "    \n",
    "    if method in [cv2.TM_SQDIFF_NORMED, cv2.TM_SQDIFF]:\n",
    "        loc = np.where( (res_mean <= mean_threshold) & (res_range <= range_threshold) )\n",
    "    else:\n",
    "        loc = np.where( (res_mean >= mean_threshold) & (res_range <= range_threshold) )\n",
    "\n",
    "    bounding_boxes = [] # Each element contains top left and bottom right of a box\n",
    "    for pt in zip(*loc[::-1]):\n",
    "        top_left = pt\n",
    "        bottom_right = (pt[0] + w, pt[1] + h)\n",
    "        bounding_boxes.append([top_left, bottom_right])\n",
    "        \n",
    "    return bounding_boxes, res_array\n",
    "            \n",
    "def extract_all_objects(template, img, method=cv2.TM_SQDIFF_NORMED, \n",
    "                        mean_threshold=None, range_threshold=0.2):\n",
    "    # Function need more work\n",
    "    reses = []\n",
    "    max_res = 0\n",
    "    best_i = None\n",
    "    chosen_boxes = []\n",
    "    for i in range(2,15):\n",
    "        h, w, _ = template.shape\n",
    "        template_resized = cv2.resize(template, dsize=(w//i, h//i), interpolation=cv2.INTER_LINEAR)\n",
    "        bounding_boxes, res = extract_all_objects_(template_resized, img, method=cv2.TM_CCOEFF_NORMED, \n",
    "                                                  mean_threshold=0.4,\n",
    "                                                  range_threshold=0.2)\n",
    "        chosen_boxes.extend(bounding_boxes)\n",
    "        reses.append(res)\n",
    "    chosen_boxes = filter_bounding_boxes(chosen_boxes)\n",
    "    return chosen_boxes"
   ]
  },
  {
   "cell_type": "code",
   "execution_count": null,
   "metadata": {},
   "outputs": [],
   "source": [
    "%matplotlib widget\n",
    "\n",
    "# template = plt.imread(\"../templates/join_alliance_war_button.png\")[...,:3]\n",
    "with time_this():\n",
    "    I_copy = I.copy()\n",
    "#     bounding_boxes = extract_all_objects(template, I[I.shape[0]//2:,:,:])\n",
    "#     for top_left, bottom_right in bounding_boxes:\n",
    "#         cv2.rectangle(I_copy, top_left, bottom_right, 255, 2)\n",
    "#     print(I.shape, template.shape, I.max(), template.max())\n",
    "    bounding_box = extract_object(template, I)\n",
    "    top_left, bottom_right = bounding_box\n",
    "    cv2.rectangle(I_copy, top_left, bottom_right, 255, 2)\n",
    "    plt.imshow(I_copy)"
   ]
  },
  {
   "cell_type": "code",
   "execution_count": null,
   "metadata": {},
   "outputs": [],
   "source": [
    "bboxes = [((0, 0), (31, 29))]\n",
    "%matplotlib widget\n",
    "\n",
    "for bbox in bboxes:\n",
    "#     bbox = gamebot.extract_text(I, \"battle\")[0]\n",
    "    I_copy = I.copy()\n",
    "    top_left, bottom_right = bbox\n",
    "    cv2.rectangle(I_copy, top_left, bottom_right, 255, 2)\n",
    "plt.imshow(I_copy)\n",
    "plt.show()"
   ]
  },
  {
   "cell_type": "code",
   "execution_count": null,
   "metadata": {},
   "outputs": [],
   "source": []
  }
 ],
 "metadata": {
  "kernelspec": {
   "display_name": "Python 3",
   "language": "python",
   "name": "python3"
  },
  "language_info": {
   "codemirror_mode": {
    "name": "ipython",
    "version": 3
   },
   "file_extension": ".py",
   "mimetype": "text/x-python",
   "name": "python",
   "nbconvert_exporter": "python",
   "pygments_lexer": "ipython3",
   "version": "3.7.6"
  }
 },
 "nbformat": 4,
 "nbformat_minor": 4
}
